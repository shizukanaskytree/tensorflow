{
 "cells": [
  {
   "cell_type": "code",
   "execution_count": 1,
   "metadata": {
    "collapsed": true
   },
   "outputs": [],
   "source": [
    "import tensorflow as tf"
   ]
  },
  {
   "cell_type": "code",
   "execution_count": 2,
   "metadata": {},
   "outputs": [
    {
     "data": {
      "text/plain": [
       "'1.3.0'"
      ]
     },
     "execution_count": 2,
     "metadata": {},
     "output_type": "execute_result"
    }
   ],
   "source": [
    "tf.__version__"
   ]
  },
  {
   "cell_type": "code",
   "execution_count": 3,
   "metadata": {},
   "outputs": [
    {
     "name": "stdout",
     "output_type": "stream",
     "text": [
      "Author: Tommy Mulc\n"
     ]
    }
   ],
   "source": [
    "print \"Author: Tommy Mulc\""
   ]
  },
  {
   "cell_type": "markdown",
   "metadata": {},
   "source": [
    "Create a TensorFlow cluster with one worker node and one ps node."
   ]
  },
  {
   "cell_type": "code",
   "execution_count": 4,
   "metadata": {
    "collapsed": true
   },
   "outputs": [],
   "source": [
    "cluster_spec = tf.train.ClusterSpec({'worker' : ['localhost:2223'], 'ps' : ['localhost:2222']})\n",
    "server = tf.train.Server(cluster_spec,job_name='worker')"
   ]
  },
  {
   "cell_type": "markdown",
   "metadata": {},
   "source": [
    "**Now launch run all the cells in the parameter server notebook**"
   ]
  },
  {
   "cell_type": "markdown",
   "metadata": {},
   "source": [
    "Create variables locally then makes global copy.  One worker scenario"
   ]
  },
  {
   "cell_type": "code",
   "execution_count": 5,
   "metadata": {
    "collapsed": true
   },
   "outputs": [],
   "source": [
    "tf.reset_default_graph()"
   ]
  },
  {
   "cell_type": "code",
   "execution_count": 6,
   "metadata": {
    "collapsed": true
   },
   "outputs": [],
   "source": [
    "#create local graph like normal specifying the local device\n",
    "with tf.device('/job:worker/task:0'):\n",
    "    a = tf.Variable([0.],name='a',collections=[tf.GraphKeys.LOCAL_VARIABLES])\n",
    "    b = tf.constant([100.])\n",
    "    loss = tf.abs(a-b)\n",
    "    \n",
    "    optimizer = tf.train.GradientDescentOptimizer(.1)\n",
    "    grads,local_vars = zip(*optimizer.compute_gradients(loss,var_list=tf.local_variables()))\n",
    "    local_update = optimizer.apply_gradients(zip(grads,local_vars))\n",
    "    \n",
    "    \n",
    "    init_local = tf.local_variables_initializer()\n",
    "\n",
    "#create the globabl copies on the ps\n",
    "with tf.device('/job:ps/task:0'):\n",
    "    for v in tf.local_variables():\n",
    "        v_g = tf.get_variable('g/'+v.op.name,\n",
    "                            shape = v.shape,\n",
    "                            dtype = v.dtype,\n",
    "                            trainable=True,\n",
    "                            collections=[tf.GraphKeys.GLOBAL_VARIABLES,tf.GraphKeys.TRAINABLE_VARIABLES])\n",
    "\n",
    "\n",
    "#gloabl updates\n",
    "with tf.device('/job:worker/task:0'):\n",
    "    #this needs to be updated.  Clearly not robust for any graph more complext\n",
    "    global_vars = tf.global_variables()\n",
    "    global_update = optimizer.apply_gradients(zip(grads,global_vars))\n",
    "\n",
    "#create init op on the chief node\n",
    "with tf.device('/job:worker/task:0'):\n",
    "    init_global = tf.global_variables_initializer()"
   ]
  },
  {
   "cell_type": "markdown",
   "metadata": {},
   "source": [
    "View the device placement of ops and variables"
   ]
  },
  {
   "cell_type": "code",
   "execution_count": 7,
   "metadata": {
    "collapsed": true
   },
   "outputs": [],
   "source": [
    "a_global = tf.global_variables()[0]"
   ]
  },
  {
   "cell_type": "code",
   "execution_count": 10,
   "metadata": {},
   "outputs": [
    {
     "name": "stdout",
     "output_type": "stream",
     "text": [
      "/job:worker/task:0\n",
      "/job:worker/task:0\n",
      "/job:worker/task:0\n",
      "/job:worker/task:0\n",
      "/job:ps/task:0\n",
      "/job:ps/task:0\n",
      "/job:worker/task:0\n",
      "/job:ps/task:0\n"
     ]
    }
   ],
   "source": [
    "print(a.device)\n",
    "print(b.device)\n",
    "print(loss.device)\n",
    "print(local_update.device)\n",
    "print(global_update.device)\n",
    "print(init_global.device)\n",
    "print(init_local.device)\n",
    "print(a_global.device)"
   ]
  },
  {
   "cell_type": "markdown",
   "metadata": {},
   "source": [
    "Now, let's view the states of local and global variables as we do local then global updates"
   ]
  },
  {
   "cell_type": "code",
   "execution_count": 11,
   "metadata": {},
   "outputs": [
    {
     "data": {
      "text/plain": [
       "[None, None]"
      ]
     },
     "execution_count": 11,
     "metadata": {},
     "output_type": "execute_result"
    }
   ],
   "source": [
    "sess = tf.Session(target=server.target)\n",
    "sess.run([init_local,init_global])"
   ]
  },
  {
   "cell_type": "code",
   "execution_count": 12,
   "metadata": {},
   "outputs": [
    {
     "data": {
      "text/plain": [
       "[array([ 0.], dtype=float32), array([-1.26032162], dtype=float32)]"
      ]
     },
     "execution_count": 12,
     "metadata": {},
     "output_type": "execute_result"
    }
   ],
   "source": [
    "sess.run([a,a_global])"
   ]
  },
  {
   "cell_type": "code",
   "execution_count": 13,
   "metadata": {
    "collapsed": true
   },
   "outputs": [],
   "source": [
    "sess.run(local_update)"
   ]
  },
  {
   "cell_type": "code",
   "execution_count": 14,
   "metadata": {},
   "outputs": [
    {
     "data": {
      "text/plain": [
       "[array([ 0.1], dtype=float32), array([-1.26032162], dtype=float32)]"
      ]
     },
     "execution_count": 14,
     "metadata": {},
     "output_type": "execute_result"
    }
   ],
   "source": [
    "sess.run([a,a_global])"
   ]
  },
  {
   "cell_type": "markdown",
   "metadata": {},
   "source": [
    "Notice that the state of the global variable hasn't changed"
   ]
  },
  {
   "cell_type": "code",
   "execution_count": 15,
   "metadata": {
    "collapsed": true
   },
   "outputs": [],
   "source": [
    "sess.run(global_update)"
   ]
  },
  {
   "cell_type": "code",
   "execution_count": 16,
   "metadata": {},
   "outputs": [
    {
     "data": {
      "text/plain": [
       "[array([ 0.1], dtype=float32), array([-1.16032159], dtype=float32)]"
      ]
     },
     "execution_count": 16,
     "metadata": {},
     "output_type": "execute_result"
    }
   ],
   "source": [
    "sess.run([a,a_global])"
   ]
  },
  {
   "cell_type": "code",
   "execution_count": null,
   "metadata": {
    "collapsed": true
   },
   "outputs": [],
   "source": []
  }
 ],
 "metadata": {
  "kernelspec": {
   "display_name": "Python [conda env:tensorflow13]",
   "language": "python",
   "name": "conda-env-tensorflow13-py"
  },
  "language_info": {
   "codemirror_mode": {
    "name": "ipython",
    "version": 2
   },
   "file_extension": ".py",
   "mimetype": "text/x-python",
   "name": "python",
   "nbconvert_exporter": "python",
   "pygments_lexer": "ipython2",
   "version": "2.7.13"
  }
 },
 "nbformat": 4,
 "nbformat_minor": 2
}
