{
 "cells": [
  {
   "cell_type": "code",
   "execution_count": 1,
   "metadata": {
    "collapsed": true
   },
   "outputs": [],
   "source": [
    "import tensorflow as tf"
   ]
  },
  {
   "cell_type": "code",
   "execution_count": 2,
   "metadata": {},
   "outputs": [
    {
     "data": {
      "text/plain": [
       "'1.3.0'"
      ]
     },
     "execution_count": 2,
     "metadata": {},
     "output_type": "execute_result"
    }
   ],
   "source": [
    "tf.__version__"
   ]
  },
  {
   "cell_type": "code",
   "execution_count": 3,
   "metadata": {},
   "outputs": [
    {
     "name": "stdout",
     "output_type": "stream",
     "text": [
      "Author: Tommy Mulc\n"
     ]
    }
   ],
   "source": [
    "print \"Author: Tommy Mulc\""
   ]
  },
  {
   "cell_type": "markdown",
   "metadata": {},
   "source": [
    "# TensorFlow Servers\n",
    "\n",
    "Create a TensorFlow cluster with one node.  Let this node be responsible for a job that that has name \"worker\" and that will operate one take at localhost:2222"
   ]
  },
  {
   "cell_type": "code",
   "execution_count": 4,
   "metadata": {
    "collapsed": true
   },
   "outputs": [],
   "source": [
    "cluster_spec = tf.train.ClusterSpec({'worker' : ['localhost:2222']})\n",
    "server = tf.train.Server(cluster_spec)"
   ]
  },
  {
   "cell_type": "code",
   "execution_count": 5,
   "metadata": {},
   "outputs": [
    {
     "data": {
      "text/plain": [
       "'grpc://localhost:2222'"
      ]
     },
     "execution_count": 5,
     "metadata": {},
     "output_type": "execute_result"
    }
   ],
   "source": [
    "server.target"
   ]
  },
  {
   "cell_type": "markdown",
   "metadata": {},
   "source": [
    "The server is currently running.  Check this by running \n",
    "\n",
    "`lsof -i -P -n | grep LISTEN | grep python`\n",
    "\n",
    "in your terminal."
   ]
  },
  {
   "cell_type": "code",
   "execution_count": 6,
   "metadata": {},
   "outputs": [
    {
     "name": "stdout",
     "output_type": "stream",
     "text": [
      "python2.7 66001 tmulc    3u  IPv6 0x358037b03a6c7799      0t0  TCP [::1]:8888 (LISTEN)\n",
      "python2.7 66001 tmulc    4u  IPv4 0x358037b038251061      0t0  TCP 127.0.0.1:8888 (LISTEN)\n",
      "python2.7 66017 tmulc   25u  IPv4 0x358037b0381ff769      0t0  TCP 127.0.0.1:60322 (LISTEN)\n",
      "python2.7 66017 tmulc   28u  IPv4 0x358037b0381fd251      0t0  TCP 127.0.0.1:60324 (LISTEN)\n",
      "python2.7 66017 tmulc   31u  IPv4 0x358037b038285251      0t0  TCP 127.0.0.1:60325 (LISTEN)\n",
      "python2.7 66017 tmulc   34u  IPv4 0x358037b038485b49      0t0  TCP 127.0.0.1:60323 (LISTEN)\n",
      "python2.7 66017 tmulc   39u  IPv4 0x358037b039c18769      0t0  TCP 127.0.0.1:60339 (LISTEN)\n",
      "python2.7 66017 tmulc   52u  IPv4 0x358037b038282579      0t0  TCP 127.0.0.1:60326 (LISTEN)\n",
      "python2.7 66017 tmulc   69u  IPv6 0x358037b03a6c8259      0t0  TCP *:2222 (LISTEN)\n"
     ]
    }
   ],
   "source": [
    "%%bash\n",
    "lsof -i -P -n | grep LISTEN | grep python"
   ]
  },
  {
   "cell_type": "markdown",
   "metadata": {},
   "source": [
    "View the meta data"
   ]
  },
  {
   "cell_type": "code",
   "execution_count": 7,
   "metadata": {},
   "outputs": [
    {
     "data": {
      "text/plain": [
       "cluster {\n",
       "  job {\n",
       "    name: \"worker\"\n",
       "    tasks {\n",
       "      value: \"localhost:2222\"\n",
       "    }\n",
       "  }\n",
       "}\n",
       "job_name: \"worker\"\n",
       "protocol: \"grpc\""
      ]
     },
     "execution_count": 7,
     "metadata": {},
     "output_type": "execute_result"
    }
   ],
   "source": [
    "server.server_def"
   ]
  },
  {
   "cell_type": "markdown",
   "metadata": {},
   "source": [
    "Launch a TensorFlow session with the excecution engine being the server."
   ]
  },
  {
   "cell_type": "code",
   "execution_count": 8,
   "metadata": {
    "collapsed": true
   },
   "outputs": [],
   "source": [
    "sess = tf.Session(target=server.target)"
   ]
  },
  {
   "cell_type": "markdown",
   "metadata": {},
   "source": [
    "Use TensorFlow to create a local server and use `lsof` to find out the location of the server."
   ]
  },
  {
   "cell_type": "code",
   "execution_count": 9,
   "metadata": {
    "collapsed": true
   },
   "outputs": [],
   "source": [
    "server = tf.train.Server.create_local_server()"
   ]
  },
  {
   "cell_type": "code",
   "execution_count": 10,
   "metadata": {},
   "outputs": [
    {
     "name": "stdout",
     "output_type": "stream",
     "text": [
      "python2.7 66001 tmulc    3u  IPv6 0x358037b03a6c7799      0t0  TCP [::1]:8888 (LISTEN)\n",
      "python2.7 66001 tmulc    4u  IPv4 0x358037b038251061      0t0  TCP 127.0.0.1:8888 (LISTEN)\n",
      "python2.7 66017 tmulc   25u  IPv4 0x358037b0381ff769      0t0  TCP 127.0.0.1:60322 (LISTEN)\n",
      "python2.7 66017 tmulc   28u  IPv4 0x358037b0381fd251      0t0  TCP 127.0.0.1:60324 (LISTEN)\n",
      "python2.7 66017 tmulc   31u  IPv4 0x358037b038285251      0t0  TCP 127.0.0.1:60325 (LISTEN)\n",
      "python2.7 66017 tmulc   34u  IPv4 0x358037b038485b49      0t0  TCP 127.0.0.1:60323 (LISTEN)\n",
      "python2.7 66017 tmulc   39u  IPv4 0x358037b039c18769      0t0  TCP 127.0.0.1:60339 (LISTEN)\n",
      "python2.7 66017 tmulc   52u  IPv4 0x358037b038282579      0t0  TCP 127.0.0.1:60326 (LISTEN)\n",
      "python2.7 66017 tmulc   69u  IPv6 0x358037b03a6c8259      0t0  TCP *:2222 (LISTEN)\n",
      "python2.7 66017 tmulc   75u  IPv6 0x358037b031e27239      0t0  TCP *:60371 (LISTEN)\n"
     ]
    }
   ],
   "source": [
    "%%bash\n",
    "lsof -i -P -n | grep LISTEN | grep python"
   ]
  },
  {
   "cell_type": "markdown",
   "metadata": {
    "collapsed": true
   },
   "source": [
    "View devices available in this session."
   ]
  },
  {
   "cell_type": "code",
   "execution_count": 11,
   "metadata": {},
   "outputs": [
    {
     "name": "stdout",
     "output_type": "stream",
     "text": [
      "/job:worker/replica:0/task:0/device:CPU:0\n"
     ]
    }
   ],
   "source": [
    "devices = sess.list_devices()\n",
    "for d in devices:\n",
    "    print(d.name)"
   ]
  },
  {
   "cell_type": "code",
   "execution_count": 12,
   "metadata": {
    "collapsed": true
   },
   "outputs": [],
   "source": [
    "sess.close()"
   ]
  }
 ],
 "metadata": {
  "kernelspec": {
   "display_name": "Python [conda env:tensorflow13]",
   "language": "python",
   "name": "conda-env-tensorflow13-py"
  },
  "language_info": {
   "codemirror_mode": {
    "name": "ipython",
    "version": 2
   },
   "file_extension": ".py",
   "mimetype": "text/x-python",
   "name": "python",
   "nbconvert_exporter": "python",
   "pygments_lexer": "ipython2",
   "version": "2.7.13"
  }
 },
 "nbformat": 4,
 "nbformat_minor": 2
}
