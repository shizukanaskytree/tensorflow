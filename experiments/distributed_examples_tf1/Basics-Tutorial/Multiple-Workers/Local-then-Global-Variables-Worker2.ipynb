{
 "cells": [
  {
   "cell_type": "code",
   "execution_count": 1,
   "metadata": {
    "collapsed": true
   },
   "outputs": [],
   "source": [
    "import tensorflow as tf"
   ]
  },
  {
   "cell_type": "code",
   "execution_count": 2,
   "metadata": {},
   "outputs": [
    {
     "data": {
      "text/plain": [
       "'1.3.0'"
      ]
     },
     "execution_count": 2,
     "metadata": {},
     "output_type": "execute_result"
    }
   ],
   "source": [
    "tf.__version__"
   ]
  },
  {
   "cell_type": "code",
   "execution_count": 3,
   "metadata": {},
   "outputs": [
    {
     "name": "stdout",
     "output_type": "stream",
     "text": [
      "Author: Tommy Mulc\n"
     ]
    }
   ],
   "source": [
    "print \"Author: Tommy Mulc\""
   ]
  },
  {
   "cell_type": "markdown",
   "metadata": {},
   "source": [
    "Create a TensorFlow cluster with one worker node and one ps node."
   ]
  },
  {
   "cell_type": "code",
   "execution_count": 4,
   "metadata": {
    "collapsed": true
   },
   "outputs": [],
   "source": [
    "task_index=1"
   ]
  },
  {
   "cell_type": "code",
   "execution_count": 5,
   "metadata": {
    "collapsed": true
   },
   "outputs": [],
   "source": [
    "cluster_spec = tf.train.ClusterSpec({'ps' : ['localhost:2222'],'worker' : ['localhost:2223','localhost:2224']})\n",
    "server = tf.train.Server(cluster_spec,job_name='worker',task_index=task_index)"
   ]
  },
  {
   "cell_type": "markdown",
   "metadata": {},
   "source": [
    "**Launch and run all the cells in the parameter server notebook (if you haven't already)**"
   ]
  },
  {
   "cell_type": "markdown",
   "metadata": {},
   "source": [
    "Create variables locally then makes a global copy on ps."
   ]
  },
  {
   "cell_type": "code",
   "execution_count": 6,
   "metadata": {
    "collapsed": true
   },
   "outputs": [],
   "source": [
    "tf.reset_default_graph()\n",
    "\n",
    "#create local graph like normal specifying the local device\n",
    "with tf.device('/job:worker/task:%d'%task_index):\n",
    "    a = tf.Variable([0.],name='a',collections=[tf.GraphKeys.LOCAL_VARIABLES])\n",
    "    b = tf.constant([100.])\n",
    "    loss = tf.abs(a-b)\n",
    "    \n",
    "    optimizer = tf.train.GradientDescentOptimizer(.1)\n",
    "    grads,local_vars = zip(*optimizer.compute_gradients(loss,var_list=tf.local_variables()))\n",
    "    local_update = optimizer.apply_gradients(zip(grads,local_vars))\n",
    "    \n",
    "    \n",
    "    init_local = tf.local_variables_initializer()\n",
    "\n",
    "#create the globabl copies on the ps\n",
    "with tf.device('/job:ps/task:0'):\n",
    "    for v in tf.local_variables():\n",
    "        v_g = tf.get_variable('g/'+v.op.name,\n",
    "                            shape = v.shape,\n",
    "                            dtype = v.dtype,\n",
    "                            trainable=True,\n",
    "                            collections=[tf.GraphKeys.GLOBAL_VARIABLES,tf.GraphKeys.TRAINABLE_VARIABLES])\n",
    "\n",
    "\n",
    "#gloabl updates\n",
    "with tf.device('/job:worker/task:%d'%task_index):\n",
    "    #this needs to be updated.  Clearly not robust for any graph more complext\n",
    "    global_vars = tf.global_variables()\n",
    "    global_update = optimizer.apply_gradients(zip(grads,global_vars))\n",
    "\n",
    "#create init op on the chief node\n",
    "with tf.device('/job:worker/task:%d'%task_index):\n",
    "    init_global = tf.global_variables_initializer()"
   ]
  },
  {
   "cell_type": "markdown",
   "metadata": {},
   "source": [
    "View device placements"
   ]
  },
  {
   "cell_type": "code",
   "execution_count": 7,
   "metadata": {
    "collapsed": true
   },
   "outputs": [],
   "source": [
    "a_global = tf.global_variables()[0]"
   ]
  },
  {
   "cell_type": "code",
   "execution_count": 8,
   "metadata": {},
   "outputs": [
    {
     "name": "stdout",
     "output_type": "stream",
     "text": [
      "/job:worker/task:1\n",
      "/job:worker/task:1\n",
      "/job:worker/task:1\n",
      "/job:worker/task:1\n",
      "/job:ps/task:0\n",
      "/job:ps/task:0\n",
      "/job:worker/task:1\n",
      "/job:ps/task:0\n"
     ]
    }
   ],
   "source": [
    "print(a.device)\n",
    "print(b.device)\n",
    "print(loss.device)\n",
    "print(local_update.device)\n",
    "print(global_update.device)\n",
    "print(init_global.device)\n",
    "print(init_local.device)\n",
    "print(a_global.device)"
   ]
  },
  {
   "cell_type": "code",
   "execution_count": 9,
   "metadata": {},
   "outputs": [
    {
     "data": {
      "text/plain": [
       "[None]"
      ]
     },
     "execution_count": 9,
     "metadata": {},
     "output_type": "execute_result"
    }
   ],
   "source": [
    "sess = tf.Session(target=server.target)\n",
    "sess.run([init_local])"
   ]
  },
  {
   "cell_type": "code",
   "execution_count": 11,
   "metadata": {},
   "outputs": [
    {
     "data": {
      "text/plain": [
       "[array([ 0.], dtype=float32), array([-1.07584226], dtype=float32)]"
      ]
     },
     "execution_count": 11,
     "metadata": {},
     "output_type": "execute_result"
    }
   ],
   "source": [
    "sess.run([a,a_global])"
   ]
  },
  {
   "cell_type": "markdown",
   "metadata": {},
   "source": [
    "Wait for a global update from worker 1, then continue."
   ]
  },
  {
   "cell_type": "code",
   "execution_count": 12,
   "metadata": {
    "collapsed": true
   },
   "outputs": [],
   "source": [
    "sess.run(local_update)"
   ]
  },
  {
   "cell_type": "code",
   "execution_count": 13,
   "metadata": {},
   "outputs": [
    {
     "data": {
      "text/plain": [
       "[array([ 0.1], dtype=float32), array([-1.07584226], dtype=float32)]"
      ]
     },
     "execution_count": 13,
     "metadata": {},
     "output_type": "execute_result"
    }
   ],
   "source": [
    "sess.run([a,a_global])"
   ]
  },
  {
   "cell_type": "code",
   "execution_count": 14,
   "metadata": {
    "collapsed": true
   },
   "outputs": [],
   "source": [
    "sess.run(global_update)"
   ]
  },
  {
   "cell_type": "code",
   "execution_count": 15,
   "metadata": {},
   "outputs": [
    {
     "data": {
      "text/plain": [
       "[array([ 0.1], dtype=float32), array([-0.97584224], dtype=float32)]"
      ]
     },
     "execution_count": 15,
     "metadata": {},
     "output_type": "execute_result"
    }
   ],
   "source": [
    "sess.run([a,a_global])"
   ]
  },
  {
   "cell_type": "code",
   "execution_count": null,
   "metadata": {
    "collapsed": true
   },
   "outputs": [],
   "source": []
  }
 ],
 "metadata": {
  "kernelspec": {
   "display_name": "Python [conda env:tensorflow13]",
   "language": "python",
   "name": "conda-env-tensorflow13-py"
  },
  "language_info": {
   "codemirror_mode": {
    "name": "ipython",
    "version": 2
   },
   "file_extension": ".py",
   "mimetype": "text/x-python",
   "name": "python",
   "nbconvert_exporter": "python",
   "pygments_lexer": "ipython2",
   "version": "2.7.13"
  }
 },
 "nbformat": 4,
 "nbformat_minor": 2
}
